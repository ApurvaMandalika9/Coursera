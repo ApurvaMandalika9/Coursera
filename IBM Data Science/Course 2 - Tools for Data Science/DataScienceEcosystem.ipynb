{
 "cells": [
  {
   "cell_type": "markdown",
   "metadata": {},
   "source": [
    "<center>\n",
    "    <img src=\"https://cf-courses-data.s3.us.cloud-object-storage.appdomain.cloud/IBMDeveloperSkillsNetwork-DS0105EN-SkillsNetwork/labs/Module2/images/SN_web_lightmode.png\" width=\"300\" alt=\"cognitiveclass.ai logo\">\n",
    "</center>\n"
   ]
  },
  {
   "cell_type": "markdown",
   "metadata": {},
   "source": [
    "#  Data Science Tools and Ecosystem \n"
   ]
  },
  {
   "cell_type": "markdown",
   "metadata": {},
   "source": [
    "In this notebook, Data Science Tools and Ecosystem are summarized."
   ]
  },
  {
   "cell_type": "markdown",
   "metadata": {},
   "source": [
    "**Objectives:**\n",
    "- Popular languages that Data Scientists use\n",
    "- Commonly used libraries\n",
    "- Data Science Tools\n",
    "- Examples of evaluating Arithmetic expressions in Python\n",
    "- Additional Example 1 : multiply and add numbers\n",
    "- Additonal Example 2:  convert minutes to hours"
   ]
  },
  {
   "cell_type": "markdown",
   "metadata": {},
   "source": [
    "Some of the popular languages that Data Scientists use are:\n",
    "1. Python – Widely used for data analysis, machine learning, and deep learning due to its rich ecosystem (e.g., Pandas, NumPy, Scikit-learn, TensorFlow).\n",
    "2. R – Preferred for statistical analysis and data visualization, especially in academic and research settings.\n",
    "3. SQL – Essential for querying and managing structured data stored in relational databases.\n",
    "4. Julia – Gaining traction for high-performance numerical and scientific computing.\n",
    "5. Scala – Often used with Apache Spark for big data processing."
   ]
  },
  {
   "cell_type": "markdown",
   "metadata": {},
   "source": [
    "Some of the commonly used libraries used by Data Scientists include:\n",
    "\n",
    "1. Pandas – For data manipulation and analysis, especially working with tabular data.\n",
    "2. NumPy – Provides support for large, multi-dimensional arrays and matrices, along with mathematical functions.\n",
    "3. Scikit-learn – A comprehensive library for traditional machine learning algorithms and model evaluation.\n",
    "4. Matplotlib – Used for creating static, interactive, and animated visualizations in Python.\n",
    "5. TensorFlow – A powerful library for building and training deep learning models."
   ]
  },
  {
   "cell_type": "markdown",
   "metadata": {},
   "source": [
    "|Data Science Tools|\n",
    "|------------------|\n",
    "|Jupyter Notebook  |\n",
    "|RStudio|\n",
    "|Apache Zeppelin|"
   ]
  },
  {
   "cell_type": "markdown",
   "metadata": {},
   "source": [
    "### Below are a few examples of evaluating arithmetic expressions in Python."
   ]
  },
  {
   "cell_type": "markdown",
   "metadata": {},
   "source": [
    "##### Addition \n",
    "a = 10 + 5        \n",
    "\n",
    "##### Subtraction\n",
    "b = 10 - 3   \n",
    "\n",
    "##### Multiplication\n",
    "c = 4 * 7     \n",
    "\n",
    "##### Division\n",
    "d = 20 / 4      \n",
    "\n",
    "##### Exponentiation\n",
    "e = 2 ** 3        \n",
    "\n",
    "##### Modulus (remainder)\n",
    "f = 10 % 3        \n",
    "\n",
    "##### Parentheses to alter precedence\n",
    "g = (5 + 3) * 2   "
   ]
  },
  {
   "cell_type": "code",
   "execution_count": 8,
   "metadata": {},
   "outputs": [
    {
     "data": {
      "text/plain": [
       "17"
      ]
     },
     "execution_count": 8,
     "metadata": {},
     "output_type": "execute_result"
    }
   ],
   "source": [
    "# This is a simple arithmetic expression to multiply then add integers.\n",
    "(3*4)+5"
   ]
  },
  {
   "cell_type": "code",
   "execution_count": 9,
   "metadata": {},
   "outputs": [
    {
     "name": "stdout",
     "output_type": "stream",
     "text": [
      "200 minutes is equal to 3.3333333333333335 hours\n"
     ]
    }
   ],
   "source": [
    "# This will convert 200 minutes to hours by diving by 60.\n",
    "minutes = 200\n",
    "hours = minutes / 60\n",
    "\n",
    "print(f\"{minutes} minutes is equal to {hours} hours\")"
   ]
  },
  {
   "cell_type": "markdown",
   "metadata": {},
   "source": [
    "## Author\n",
    "Apurva Mandalika"
   ]
  }
 ],
 "metadata": {
  "kernelspec": {
   "display_name": "Python 3 (ipykernel)",
   "language": "python",
   "name": "python3"
  },
  "language_info": {
   "codemirror_mode": {
    "name": "ipython",
    "version": 3
   },
   "file_extension": ".py",
   "mimetype": "text/x-python",
   "name": "python",
   "nbconvert_exporter": "python",
   "pygments_lexer": "ipython3",
   "version": "3.12.8"
  }
 },
 "nbformat": 4,
 "nbformat_minor": 4
}
